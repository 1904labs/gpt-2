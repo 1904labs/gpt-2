{
 "cells": [
  {
   "cell_type": "raw",
   "metadata": {},
   "source": [
    "# Clone the repo\n",
    "!git clone https://github.com/1904labs/gpt-2"
   ]
  },
  {
   "cell_type": "code",
   "execution_count": 1,
   "metadata": {
    "ExecuteTime": {
     "end_time": "2019-09-18T21:54:00.155208Z",
     "start_time": "2019-09-18T21:54:00.152187Z"
    }
   },
   "outputs": [],
   "source": [
    "import sys\n",
    "\n",
    "from pathlib import Path"
   ]
  },
  {
   "cell_type": "code",
   "execution_count": 2,
   "metadata": {
    "ExecuteTime": {
     "end_time": "2019-09-18T21:54:02.530075Z",
     "start_time": "2019-09-18T21:54:02.527141Z"
    }
   },
   "outputs": [],
   "source": [
    "sys.path.append(str(Path().cwd() / 'src'))"
   ]
  },
  {
   "cell_type": "code",
   "execution_count": 3,
   "metadata": {
    "ExecuteTime": {
     "end_time": "2019-09-18T21:56:54.636796Z",
     "start_time": "2019-09-18T21:54:03.126818Z"
    }
   },
   "outputs": [
    {
     "name": "stdout",
     "output_type": "stream",
     "text": [
      "Fetching checkpoint: 1.00kit [00:00, 440kit/s]                                                      \n",
      "Fetching encoder.json: 1.04Mit [00:00, 1.76Mit/s]                                                   \n",
      "Fetching hparams.json: 1.00kit [00:00, 491kit/s]                                                    \n",
      "Fetching model.ckpt.data-00000-of-00001: 498Mit [02:48, 2.95Mit/s]                                  \n",
      "Fetching model.ckpt.index: 6.00kit [00:00, 1.91Mit/s]                                               \n",
      "Fetching model.ckpt.meta: 472kit [00:00, 2.30Mit/s]                                                 \n",
      "Fetching vocab.bpe: 457kit [00:00, 1.60Mit/s]                                                       \n"
     ]
    }
   ],
   "source": [
    "# Download a model: 117M, 334M, 774M\n",
    "!python download_model.py 117M"
   ]
  },
  {
   "cell_type": "code",
   "execution_count": 4,
   "metadata": {
    "ExecuteTime": {
     "end_time": "2019-09-18T21:56:58.385017Z",
     "start_time": "2019-09-18T21:56:54.671566Z"
    },
    "scrolled": true
   },
   "outputs": [
    {
     "name": "stderr",
     "output_type": "stream",
     "text": [
      "/Users/mpitlyk/miniconda3/envs/ds3/lib/python3.6/site-packages/tensorflow/python/framework/dtypes.py:516: FutureWarning: Passing (type, 1) or '1type' as a synonym of type is deprecated; in a future version of numpy, it will be understood as (type, (1,)) / '(1,)type'.\n",
      "  _np_qint8 = np.dtype([(\"qint8\", np.int8, 1)])\n",
      "/Users/mpitlyk/miniconda3/envs/ds3/lib/python3.6/site-packages/tensorflow/python/framework/dtypes.py:517: FutureWarning: Passing (type, 1) or '1type' as a synonym of type is deprecated; in a future version of numpy, it will be understood as (type, (1,)) / '(1,)type'.\n",
      "  _np_quint8 = np.dtype([(\"quint8\", np.uint8, 1)])\n",
      "/Users/mpitlyk/miniconda3/envs/ds3/lib/python3.6/site-packages/tensorflow/python/framework/dtypes.py:518: FutureWarning: Passing (type, 1) or '1type' as a synonym of type is deprecated; in a future version of numpy, it will be understood as (type, (1,)) / '(1,)type'.\n",
      "  _np_qint16 = np.dtype([(\"qint16\", np.int16, 1)])\n",
      "/Users/mpitlyk/miniconda3/envs/ds3/lib/python3.6/site-packages/tensorflow/python/framework/dtypes.py:519: FutureWarning: Passing (type, 1) or '1type' as a synonym of type is deprecated; in a future version of numpy, it will be understood as (type, (1,)) / '(1,)type'.\n",
      "  _np_quint16 = np.dtype([(\"quint16\", np.uint16, 1)])\n",
      "/Users/mpitlyk/miniconda3/envs/ds3/lib/python3.6/site-packages/tensorflow/python/framework/dtypes.py:520: FutureWarning: Passing (type, 1) or '1type' as a synonym of type is deprecated; in a future version of numpy, it will be understood as (type, (1,)) / '(1,)type'.\n",
      "  _np_qint32 = np.dtype([(\"qint32\", np.int32, 1)])\n",
      "/Users/mpitlyk/miniconda3/envs/ds3/lib/python3.6/site-packages/tensorflow/python/framework/dtypes.py:525: FutureWarning: Passing (type, 1) or '1type' as a synonym of type is deprecated; in a future version of numpy, it will be understood as (type, (1,)) / '(1,)type'.\n",
      "  np_resource = np.dtype([(\"resource\", np.ubyte, 1)])\n",
      "/Users/mpitlyk/miniconda3/envs/ds3/lib/python3.6/site-packages/h5py/__init__.py:36: FutureWarning: Conversion of the second argument of issubdtype from `float` to `np.floating` is deprecated. In future, it will be treated as `np.float64 == np.dtype(float).type`.\n",
      "  from ._conv import register_converters as _register_converters\n",
      "/Users/mpitlyk/miniconda3/envs/ds3/lib/python3.6/site-packages/tensorboard/compat/tensorflow_stub/dtypes.py:541: FutureWarning: Passing (type, 1) or '1type' as a synonym of type is deprecated; in a future version of numpy, it will be understood as (type, (1,)) / '(1,)type'.\n",
      "  _np_qint8 = np.dtype([(\"qint8\", np.int8, 1)])\n",
      "/Users/mpitlyk/miniconda3/envs/ds3/lib/python3.6/site-packages/tensorboard/compat/tensorflow_stub/dtypes.py:542: FutureWarning: Passing (type, 1) or '1type' as a synonym of type is deprecated; in a future version of numpy, it will be understood as (type, (1,)) / '(1,)type'.\n",
      "  _np_quint8 = np.dtype([(\"quint8\", np.uint8, 1)])\n",
      "/Users/mpitlyk/miniconda3/envs/ds3/lib/python3.6/site-packages/tensorboard/compat/tensorflow_stub/dtypes.py:543: FutureWarning: Passing (type, 1) or '1type' as a synonym of type is deprecated; in a future version of numpy, it will be understood as (type, (1,)) / '(1,)type'.\n",
      "  _np_qint16 = np.dtype([(\"qint16\", np.int16, 1)])\n",
      "/Users/mpitlyk/miniconda3/envs/ds3/lib/python3.6/site-packages/tensorboard/compat/tensorflow_stub/dtypes.py:544: FutureWarning: Passing (type, 1) or '1type' as a synonym of type is deprecated; in a future version of numpy, it will be understood as (type, (1,)) / '(1,)type'.\n",
      "  _np_quint16 = np.dtype([(\"quint16\", np.uint16, 1)])\n",
      "/Users/mpitlyk/miniconda3/envs/ds3/lib/python3.6/site-packages/tensorboard/compat/tensorflow_stub/dtypes.py:545: FutureWarning: Passing (type, 1) or '1type' as a synonym of type is deprecated; in a future version of numpy, it will be understood as (type, (1,)) / '(1,)type'.\n",
      "  _np_qint32 = np.dtype([(\"qint32\", np.int32, 1)])\n",
      "/Users/mpitlyk/miniconda3/envs/ds3/lib/python3.6/site-packages/tensorboard/compat/tensorflow_stub/dtypes.py:550: FutureWarning: Passing (type, 1) or '1type' as a synonym of type is deprecated; in a future version of numpy, it will be understood as (type, (1,)) / '(1,)type'.\n",
      "  np_resource = np.dtype([(\"resource\", np.ubyte, 1)])\n"
     ]
    }
   ],
   "source": [
    "from generate_from_str import GPT"
   ]
  },
  {
   "cell_type": "code",
   "execution_count": 5,
   "metadata": {
    "ExecuteTime": {
     "end_time": "2019-09-18T22:01:21.583972Z",
     "start_time": "2019-09-18T22:01:14.833490Z"
    },
    "scrolled": true
   },
   "outputs": [
    {
     "name": "stdout",
     "output_type": "stream",
     "text": [
      "name 'gpt' is not defined\n",
      "WARNING:tensorflow:From /Users/mpitlyk/Documents/Python/repos/1904-gpt-2/src/generate_from_str.py:79: The name tf.Session is deprecated. Please use tf.compat.v1.Session instead.\n",
      "\n",
      "WARNING:tensorflow:From /Users/mpitlyk/Documents/Python/repos/1904-gpt-2/src/generate_from_str.py:81: The name tf.placeholder is deprecated. Please use tf.compat.v1.placeholder instead.\n",
      "\n",
      "WARNING:tensorflow:From /Users/mpitlyk/Documents/Python/repos/1904-gpt-2/src/generate_from_str.py:83: The name tf.set_random_seed is deprecated. Please use tf.compat.v1.set_random_seed instead.\n",
      "\n",
      "WARNING:tensorflow:From /Users/mpitlyk/Documents/Python/repos/1904-gpt-2/src/sample.py:51: The name tf.AUTO_REUSE is deprecated. Please use tf.compat.v1.AUTO_REUSE instead.\n",
      "\n",
      "WARNING:tensorflow:From /Users/mpitlyk/Documents/Python/repos/1904-gpt-2/src/model.py:148: The name tf.variable_scope is deprecated. Please use tf.compat.v1.variable_scope instead.\n",
      "\n",
      "WARNING:tensorflow:From /Users/mpitlyk/Documents/Python/repos/1904-gpt-2/src/sample.py:64: to_float (from tensorflow.python.ops.math_ops) is deprecated and will be removed in a future version.\n",
      "Instructions for updating:\n",
      "Use `tf.cast` instead.\n",
      "WARNING:tensorflow:From /Users/mpitlyk/Documents/Python/repos/1904-gpt-2/src/sample.py:16: add_dispatch_support.<locals>.wrapper (from tensorflow.python.ops.array_ops) is deprecated and will be removed in a future version.\n",
      "Instructions for updating:\n",
      "Use tf.where in 2.0, which has the same broadcast rule as np.where\n",
      "WARNING:tensorflow:From /Users/mpitlyk/Documents/Python/repos/1904-gpt-2/src/sample.py:67: multinomial (from tensorflow.python.ops.random_ops) is deprecated and will be removed in a future version.\n",
      "Instructions for updating:\n",
      "Use `tf.random.categorical` instead.\n",
      "WARNING:tensorflow:From /Users/mpitlyk/Documents/Python/repos/1904-gpt-2/src/generate_from_str.py:91: The name tf.train.Saver is deprecated. Please use tf.compat.v1.train.Saver instead.\n",
      "\n",
      "WARNING:tensorflow:From /Users/mpitlyk/miniconda3/envs/ds3/lib/python3.6/site-packages/tensorflow/python/training/saver.py:1276: checkpoint_exists (from tensorflow.python.training.checkpoint_management) is deprecated and will be removed in a future version.\n",
      "Instructions for updating:\n",
      "Use standard file APIs to check for files with this prefix.\n",
      "INFO:tensorflow:Restoring parameters from models/117M/model.ckpt\n"
     ]
    }
   ],
   "source": [
    "try:\n",
    "    gpt.sess.close()\n",
    "except Exception as e:\n",
    "    print(e)\n",
    "\n",
    "gpt = GPT(model_name='117M',\n",
    "            seed=1,\n",
    "            nsamples=1,\n",
    "            batch_size=1,\n",
    "            length=None,\n",
    "            temperature=1,\n",
    "            top_k=40)"
   ]
  },
  {
   "cell_type": "code",
   "execution_count": 7,
   "metadata": {
    "ExecuteTime": {
     "end_time": "2019-09-18T22:04:03.575463Z",
     "start_time": "2019-09-18T22:03:26.062487Z"
    }
   },
   "outputs": [
    {
     "name": "stdout",
     "output_type": "stream",
     "text": [
      "======================================== SAMPLE 1 ======================================== the new year comes around, and my wife has started a new year with our favorite hobby. Her plan is to start school in February , and my wife and I have been enjoying our holidays with each other. We've finished reading the Bible, cooking and going to the church now that we're all kids, and we haven't had much fun as a family since the first Christmas. My wife also decided to give me some exercise because I've got a special feeling in this life, and I've been really getting in shape, going from being a child to our toddler to a senior today.\n",
      "It didn't feel good, but she has my back. In many ways, in my opinion, that is what we're stuck in (and it seems pretty obvious when we have a family) and now we all sit around in circles to talk. She talks about our kids, my kids, my children, and it's just a lot easier when you don't go out doing so much. It has been a very productive day at college, and we were still thinking about getting our college degree, but after working for two years, and realizing that I'm a college kid, with more time going, and I'm so excited about getting the college degree that I want to put something behind me. I still can't believe I'm talking this. I am so happy I am sitting in these circles thinking of her! We're also talking about doing the dishes and putting on all the Christmas gifts as usual so that we all have an easier time thinking about what's going to be in our home and what we can do to get ahead. And if that's not possible, I'm going to start talking to you, you need to get a little more involved. I am excited for you to have fun, and it's easy to get excited when you're not doing it or doing things too far in development. I am so happy that we all have healthy lives, so I'm trying to be involved in the process, too. I'm making sure it's as fun as possible, and a good way for you to learn more of it.\n",
      "And in case my kids don't love it as much, and they can't relate to us (for the life of me, I'm sure that's a story that doesn't apply just to them), I just want you to try them out! I want them to read and understand that we are all children at the end of the day, and that's why they are so eager to make================================================================================\n"
     ]
    }
   ],
   "source": [
    "text = gpt.generate_from_str('Today is the first day ')\n",
    "print(text)"
   ]
  },
  {
   "cell_type": "code",
   "execution_count": null,
   "metadata": {},
   "outputs": [],
   "source": []
  },
  {
   "cell_type": "code",
   "execution_count": null,
   "metadata": {},
   "outputs": [],
   "source": []
  },
  {
   "cell_type": "code",
   "execution_count": null,
   "metadata": {},
   "outputs": [],
   "source": []
  },
  {
   "cell_type": "code",
   "execution_count": null,
   "metadata": {},
   "outputs": [],
   "source": []
  }
 ],
 "metadata": {
  "kernelspec": {
   "display_name": "Python 3",
   "language": "python",
   "name": "python3"
  },
  "language_info": {
   "codemirror_mode": {
    "name": "ipython",
    "version": 3
   },
   "file_extension": ".py",
   "mimetype": "text/x-python",
   "name": "python",
   "nbconvert_exporter": "python",
   "pygments_lexer": "ipython3",
   "version": "3.6.4"
  },
  "toc": {
   "base_numbering": 1,
   "nav_menu": {},
   "number_sections": true,
   "sideBar": true,
   "skip_h1_title": false,
   "title_cell": "Table of Contents",
   "title_sidebar": "Contents",
   "toc_cell": false,
   "toc_position": {},
   "toc_section_display": true,
   "toc_window_display": false
  },
  "varInspector": {
   "cols": {
    "lenName": 16,
    "lenType": 16,
    "lenVar": 40
   },
   "kernels_config": {
    "python": {
     "delete_cmd_postfix": "",
     "delete_cmd_prefix": "del ",
     "library": "var_list.py",
     "varRefreshCmd": "print(var_dic_list())"
    },
    "r": {
     "delete_cmd_postfix": ") ",
     "delete_cmd_prefix": "rm(",
     "library": "var_list.r",
     "varRefreshCmd": "cat(var_dic_list()) "
    }
   },
   "types_to_exclude": [
    "module",
    "function",
    "builtin_function_or_method",
    "instance",
    "_Feature"
   ],
   "window_display": false
  }
 },
 "nbformat": 4,
 "nbformat_minor": 2
}
