{
 "cells": [
  {
   "cell_type": "code",
   "execution_count": null,
   "metadata": {},
   "outputs": [],
   "source": [
    "# Make sure you enable a GPU or TPU in the runtime\n",
    "# Runtime -> Change Runtime -> Hardware Accelerator "
   ]
  },
  {
   "cell_type": "code",
   "execution_count": null,
   "metadata": {},
   "outputs": [],
   "source": [
    "# Clone the repo\n",
    "!git clone https://github.com/1904labs/gpt-2"
   ]
  },
  {
   "cell_type": "code",
   "execution_count": null,
   "metadata": {},
   "outputs": [],
   "source": [
    "cd gpt-2"
   ]
  },
  {
   "cell_type": "code",
   "execution_count": null,
   "metadata": {},
   "outputs": [],
   "source": [
    "!pip install -r requirements.txt"
   ]
  },
  {
   "cell_type": "code",
   "execution_count": null,
   "metadata": {
    "ExecuteTime": {
     "end_time": "2019-09-18T22:26:01.684270Z",
     "start_time": "2019-09-18T22:26:01.681266Z"
    }
   },
   "outputs": [],
   "source": [
    "import sys\n",
    "\n",
    "from pathlib import Path"
   ]
  },
  {
   "cell_type": "code",
   "execution_count": null,
   "metadata": {
    "ExecuteTime": {
     "end_time": "2019-09-18T22:26:01.847489Z",
     "start_time": "2019-09-18T22:26:01.843984Z"
    }
   },
   "outputs": [],
   "source": [
    "sys.path.append(str(Path().cwd() / 'src'))"
   ]
  },
  {
   "cell_type": "code",
   "execution_count": null,
   "metadata": {
    "ExecuteTime": {
     "end_time": "2019-09-18T21:56:54.636796Z",
     "start_time": "2019-09-18T21:54:03.126818Z"
    }
   },
   "outputs": [],
   "source": [
    "# Download a model: 117M, 334M, 774M\n",
    "!python download_model.py 117M"
   ]
  },
  {
   "cell_type": "code",
   "execution_count": null,
   "metadata": {
    "ExecuteTime": {
     "end_time": "2019-09-18T22:26:06.893626Z",
     "start_time": "2019-09-18T22:26:02.737324Z"
    }
   },
   "outputs": [],
   "source": [
    "from generate_from_str import GPT"
   ]
  },
  {
   "cell_type": "code",
   "execution_count": null,
   "metadata": {
    "ExecuteTime": {
     "end_time": "2019-09-18T22:26:19.168305Z",
     "start_time": "2019-09-18T22:26:12.906672Z"
    }
   },
   "outputs": [],
   "source": [
    "# The GPT class maintains a reference to a general session.\n",
    "# We want to close that session before making a new instance of GPT.\n",
    "try:\n",
    "    gpt.sess.close()\n",
    "except Exception as e:\n",
    "    #print(e)\n",
    "    pass\n",
    "\n",
    "# This might print out a lot of TensorFlow warnings, which can be ignored.\n",
    "gpt = GPT(model_name='117M',\n",
    "            seed=1,\n",
    "            nsamples=2,\n",
    "            batch_size=1,\n",
    "            length=None,\n",
    "            temperature=1,\n",
    "            top_k=40)"
   ]
  },
  {
   "cell_type": "code",
   "execution_count": null,
   "metadata": {
    "ExecuteTime": {
     "end_time": "2019-09-18T22:27:36.217647Z",
     "start_time": "2019-09-18T22:26:19.215143Z"
    }
   },
   "outputs": [],
   "source": [
    "text = gpt.generate_from_str('Today is the first day ')\n",
    "print(text)"
   ]
  },
  {
   "cell_type": "code",
   "execution_count": null,
   "metadata": {},
   "outputs": [],
   "source": []
  },
  {
   "cell_type": "code",
   "execution_count": null,
   "metadata": {},
   "outputs": [],
   "source": []
  }
 ],
 "metadata": {
  "kernelspec": {
   "display_name": "Python 3",
   "language": "python",
   "name": "python3"
  },
  "language_info": {
   "codemirror_mode": {
    "name": "ipython",
    "version": 3
   },
   "file_extension": ".py",
   "mimetype": "text/x-python",
   "name": "python",
   "nbconvert_exporter": "python",
   "pygments_lexer": "ipython3",
   "version": "3.6.4"
  },
  "toc": {
   "base_numbering": 1,
   "nav_menu": {},
   "number_sections": true,
   "sideBar": true,
   "skip_h1_title": false,
   "title_cell": "Table of Contents",
   "title_sidebar": "Contents",
   "toc_cell": false,
   "toc_position": {},
   "toc_section_display": true,
   "toc_window_display": false
  },
  "varInspector": {
   "cols": {
    "lenName": 16,
    "lenType": 16,
    "lenVar": 40
   },
   "kernels_config": {
    "python": {
     "delete_cmd_postfix": "",
     "delete_cmd_prefix": "del ",
     "library": "var_list.py",
     "varRefreshCmd": "print(var_dic_list())"
    },
    "r": {
     "delete_cmd_postfix": ") ",
     "delete_cmd_prefix": "rm(",
     "library": "var_list.r",
     "varRefreshCmd": "cat(var_dic_list()) "
    }
   },
   "types_to_exclude": [
    "module",
    "function",
    "builtin_function_or_method",
    "instance",
    "_Feature"
   ],
   "window_display": false
  }
 },
 "nbformat": 4,
 "nbformat_minor": 2
}
